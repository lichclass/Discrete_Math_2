{
 "cells": [
  {
   "cell_type": "markdown",
   "id": "b3853bb8-d605-4855-94f6-c9c125242e4c",
   "metadata": {},
   "source": [
    "$\\textbf{Lesson 3 Programming Assignment}$\n",
    "-"
   ]
  },
  {
   "cell_type": "markdown",
   "id": "0dfc5a9d-ec3a-465a-bcaf-8ed51d558981",
   "metadata": {},
   "source": [
    "$\\textbf{Graphs}$"
   ]
  },
  {
   "cell_type": "markdown",
   "id": "56971942-ae41-44cb-a9d8-bad72fce04c3",
   "metadata": {},
   "source": [
    "$\\textbf{Directed Graphs}$"
   ]
  },
  {
   "cell_type": "markdown",
   "id": "783d1a48-87e2-422b-9fd7-39d689c0185d",
   "metadata": {},
   "source": [
    "$\\textbf{Simple Graphs}$"
   ]
  },
  {
   "cell_type": "markdown",
   "id": "ebcb3a99-d1c8-4e45-a4e7-3972503da9e0",
   "metadata": {},
   "source": [
    "$\\textbf{Complete Graphs}$"
   ]
  },
  {
   "cell_type": "markdown",
   "id": "e692ecab-7b2a-43fc-adee-271e3732bd85",
   "metadata": {},
   "source": [
    "$\\textbf{Bipartite Graphs}$"
   ]
  },
  {
   "cell_type": "markdown",
   "id": "d03e5eba-daab-4678-9aa0-8aff1bdbea6e",
   "metadata": {},
   "source": [
    "$\\textbf{Subgraphs}$"
   ]
  },
  {
   "cell_type": "markdown",
   "id": "932addbe-a8d9-4f93-9356-d28ccb69d12b",
   "metadata": {},
   "source": [
    "$\\textbf{Degree of a Vertex}$"
   ]
  },
  {
   "cell_type": "markdown",
   "id": "c61f0cb0-aafa-4b94-ae29-bbfb61afea1c",
   "metadata": {},
   "source": [
    "$\\textbf{Graphs}$"
   ]
  },
  {
   "cell_type": "markdown",
   "id": "ae7ded1a-cf89-4a71-ab17-236903b0e3d0",
   "metadata": {},
   "source": [
    "$\\textbf{Handshake Theorem}$"
   ]
  },
  {
   "cell_type": "markdown",
   "id": "1d4be5db-3c8a-41d5-906b-db3bb25df535",
   "metadata": {},
   "source": [
    "$\\textbf{Travelling in a Graph}$"
   ]
  },
  {
   "cell_type": "markdown",
   "id": "c04d009a-bba0-4fd6-bfd1-c4c3c901a827",
   "metadata": {},
   "source": [
    "$\\textbf{Connectedness a Graph}$"
   ]
  },
  {
   "cell_type": "markdown",
   "id": "22f4360a-61e3-4f99-a8e6-e99212c31964",
   "metadata": {},
   "source": [
    "$\\textbf{Connected Components}$"
   ]
  },
  {
   "cell_type": "markdown",
   "id": "af43597e-19c6-4b1a-b945-ebc9952780b7",
   "metadata": {},
   "source": [
    "$\\textbf{Euler's Circuit}$"
   ]
  },
  {
   "cell_type": "markdown",
   "id": "5f769b3d-2479-4e79-8638-38c1d0b08b6f",
   "metadata": {},
   "source": [
    "$\\textbf{Euler's Trail}$"
   ]
  },
  {
   "cell_type": "markdown",
   "id": "ccfcc415-441d-4f1c-91d2-0bb23516cacd",
   "metadata": {},
   "source": [
    "$\\textbf{Hamiltonian Circuits}$"
   ]
  },
  {
   "cell_type": "markdown",
   "id": "ec012bbc-97ab-4a86-879b-1175fe1b1566",
   "metadata": {},
   "source": [
    "$\\textbf{Travelling Salesman Problem}$"
   ]
  }
 ],
 "metadata": {
  "kernelspec": {
   "display_name": "Python 3 (ipykernel)",
   "language": "python",
   "name": "python3"
  },
  "language_info": {
   "codemirror_mode": {
    "name": "ipython",
    "version": 3
   },
   "file_extension": ".py",
   "mimetype": "text/x-python",
   "name": "python",
   "nbconvert_exporter": "python",
   "pygments_lexer": "ipython3",
   "version": "3.11.4"
  }
 },
 "nbformat": 4,
 "nbformat_minor": 5
}
